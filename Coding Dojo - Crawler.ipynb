{
 "cells": [
  {
   "cell_type": "markdown",
   "metadata": {},
   "source": [
    "# ☯ Coding Dojo ☯"
   ]
  },
  {
   "cell_type": "markdown",
   "metadata": {},
   "source": [
    "<img style=\"float:left\" src=\"imgs/vamos_coletar.png\">\n",
    "## Regras\n",
    "\n",
    "Ponto de participação, poderá perdido se:\n",
    "\n",
    "    - Aluno atrasado (ver política de atraso na especificação)\n",
    "    - Recusar participação como piloto/copiloto\n",
    "        - Ou não querer sair do computador, quando solicitado :-)\n",
    "    - Demorar para sair quando solicitado\n",
    "    - Parar de participar por:\n",
    "        - Uso de outro computador\n",
    "        - Uso de celular\n",
    "        - Usar a internet\n",
    "        - Conversa\n"
   ]
  },
  {
   "cell_type": "markdown",
   "metadata": {},
   "source": [
    "Antes de entregar, certifique-se que tenha executado todos os comandos/códigos deste Jupyter. É obrigatório que todas as saídas tenham sido apresentadas. Perda de 3 pontos caso não tenham feito isso."
   ]
  },
  {
   "cell_type": "markdown",
   "metadata": {},
   "source": [
    "# Dependencias"
   ]
  },
  {
   "cell_type": "markdown",
   "metadata": {},
   "source": [
    "Se necessário, instale o python3 e o pip3 abaixo usando `sudo apt-get install python3 python3-pip`.  Execute abaixo para instalar o [BeautifulSoup](https://www.crummy.com/software/BeautifulSoup/). Qualquer linha de comando/código como a de baixo, você pode executá-la a selecionando e pressionando `ctrl+enter` ❣️."
   ]
  },
  {
   "cell_type": "code",
   "execution_count": 7,
   "metadata": {},
   "outputs": [
    {
     "name": "stdout",
     "output_type": "stream",
     "text": [
      "Requirement already satisfied: bs4 in /home/vinicius/anaconda3/lib/python3.8/site-packages (0.0.1)\r\n",
      "Requirement already satisfied: beautifulsoup4 in /home/vinicius/anaconda3/lib/python3.8/site-packages (from bs4) (4.9.1)\r\n",
      "Requirement already satisfied: soupsieve>1.2 in /home/vinicius/anaconda3/lib/python3.8/site-packages (from beautifulsoup4->bs4) (2.0.1)\r\n"
     ]
    }
   ],
   "source": [
    "!pip3 install bs4"
   ]
  },
  {
   "cell_type": "markdown",
   "metadata": {},
   "source": [
    "Caso de comando não encontrado `pip3` use `pip`. "
   ]
  },
  {
   "cell_type": "markdown",
   "metadata": {},
   "source": [
    "# Coletor"
   ]
  },
  {
   "cell_type": "markdown",
   "metadata": {},
   "source": [
    "<img src=\"imgs/arquitetura_coletor.png\">"
   ]
  },
  {
   "cell_type": "markdown",
   "metadata": {},
   "source": [
    "Você deverá completar a implementação das três classes abaixo para fazer o coletor: `Domain`, `Scheduler` e `PageFetcher`. Conforme figura acima, o `Scheduler` é responsável por armazenar as filas de URLs a serem requisitadas; o PageFetcher serão *threads* responsáveis por fazer as requisições das URLs obtidas por meio do escalonador (instancia da classe `Scheduler`). A classe `Domain` armazena informações importantes sobre o servidor a serem usadas no momento do escalonamento das URLs."
   ]
  },
  {
   "cell_type": "markdown",
   "metadata": {},
   "source": [
    "## Classe `Domain`"
   ]
  },
  {
   "cell_type": "markdown",
   "metadata": {},
   "source": [
    "<figure style=\"text-align:center\">\n",
    "    <img src=\"imgs/estrutura_coletor.png\">\n",
    "    <caption>Fonte: Baeza-Yates e Ribeiro-Neto, 2011 </caption>\n",
    "</figure>"
   ]
  },
  {
   "cell_type": "markdown",
   "metadata": {},
   "source": [
    "Antes de começar a fazer o escalonador (classe `Scheduler`) devemos implementar a classe que representa os domínios. Conforme visto na figura acima, o escalonador possuirá diversas filas, uma para cada servidor.  Em nosso caso, o servidor será um domínio - que você irá implementar na classe `Domain` do arquivo `domain.py`. \n",
    "\n",
    "O escalonador percorrerá cada servidor e obterá o primeiro da fila do primeiro servidor acessível. O servidor é acessível obdecendo o limite de tempo entre requisições (em segundos, usando o atributo `int_time_limit_between_requests`). \n",
    "\n",
    "Nesta atividade você irá implementar a classe `Domain`, que já possui os seguintes atributos: \n",
    "\n",
    "- *int_time_limit_between_requests*: Limite entre requisições (int)\n",
    "- *nam_domain*: Nome do domínio (String)\n",
    "- *time_last_access*: [Objeto Datetime](https://docs.python.org/3/library/datetime.html#datetime-objects) informando da data/hora do último acesso \n",
    "\n",
    "O prefixo da variável sempre irá denotar o tipo da mesma."
   ]
  },
  {
   "cell_type": "markdown",
   "metadata": {},
   "source": [
    "**Atividade 1 - classe `Domain`**: Complete a classe `Domain` implementando os métodos/atributos calculados descritos a seguir. Logo após, execute o ❣️ teste unitário ❣️ para verificar se os métodos/atributos calculados foram implementados conforme esperado.\n",
    "\n",
    "- **accessed_now**: Método que modifica o último acesso com a data/hora atual usando um [objeto datetime](https://docs.python.org/3/library/datetime.html#datetime-objects)\n",
    "- **time_since_last_access**: Atributo calculado que retorna um [objeto TimeDelta](https://docs.python.org/3/library/datetime.html#timedelta-objects) com a diferença da data atual e a data do último acesso. Veja os exemplos de uso do TimeDelta na sua documentação\n",
    "- **is_accessible**: Método que verdadeiro se o domínio estiver acessível"
   ]
  },
  {
   "cell_type": "markdown",
   "metadata": {},
   "source": [
    "Os métodos `count_fetched_page` e `has_finished_crawl` já estão implementados. Execute o teste unitário a seguir. Veja que o comando abaixo executa o teste unitário presente no arquivo `crawler/scheduler_test.py`. Analise-o para entender como implementamos testes unitários."
   ]
  },
  {
   "cell_type": "code",
   "execution_count": 5,
   "metadata": {},
   "outputs": [
    {
     "name": "stdout",
     "output_type": "stream",
     "text": [
      "^C\r\n",
      "Traceback (most recent call last):\r\n",
      "  File \"/home/vinicius/anaconda3/lib/python3.8/runpy.py\", line 185, in _run_module_as_main\r\n",
      "    mod_name, mod_spec, code = _get_module_details(mod_name, _Error)\r\n",
      "  File \"/home/vinicius/anaconda3/lib/python3.8/runpy.py\", line 111, in _get_module_details\r\n",
      "    __import__(pkg_name)\r\n",
      "  File \"/home/vinicius/Desktop/faculdade/collector/crawler/__init__.py\", line 1, in <module>\r\n",
      "    from .page_fetcher import *\r\n",
      "  File \"/home/vinicius/Desktop/faculdade/collector/crawler/page_fetcher.py\", line 1, in <module>\r\n",
      "    from bs4 import BeautifulSoup\r\n",
      "  File \"/home/vinicius/anaconda3/lib/python3.8/site-packages/bs4/__init__.py\", line 31, in <module>\r\n",
      "    from .builder import builder_registry, ParserRejectedMarkup\r\n",
      "  File \"/home/vinicius/anaconda3/lib/python3.8/site-packages/bs4/builder/__init__.py\", line 510, in <module>\r\n",
      "    from . import _html5lib\r\n",
      "  File \"/home/vinicius/anaconda3/lib/python3.8/site-packages/bs4/builder/_html5lib.py\", line 20, in <module>\r\n",
      "    import html5lib\r\n",
      "  File \"/home/vinicius/anaconda3/lib/python3.8/site-packages/html5lib/__init__.py\", line 25, in <module>\r\n",
      "    from .html5parser import HTMLParser, parse, parseFragment\r\n",
      "  File \"/home/vinicius/anaconda3/lib/python3.8/site-packages/html5lib/html5parser.py\", line 6, in <module>\r\n",
      "    from . import _inputstream\r\n",
      "  File \"/home/vinicius/anaconda3/lib/python3.8/site-packages/html5lib/_inputstream.py\", line 31, in <module>\r\n",
      "    invalid_unicode_re = re.compile(invalid_unicode_no_surrogate[:-1] +\r\n",
      "  File \"/home/vinicius/anaconda3/lib/python3.8/re.py\", line 252, in compile\r\n",
      "    return _compile(pattern, flags)\r\n",
      "  File \"/home/vinicius/anaconda3/lib/python3.8/re.py\", line 304, in _compile\r\n",
      "    p = sre_compile.compile(pattern, flags)\r\n",
      "  File \"/home/vinicius/anaconda3/lib/python3.8/sre_compile.py\", line 768, in compile\r\n",
      "    code = _code(p, flags)\r\n",
      "  File \"/home/vinicius/anaconda3/lib/python3.8/sre_compile.py\", line 607, in _code\r\n",
      "    _compile(code, p.data, flags)\r\n",
      "  File \"/home/vinicius/anaconda3/lib/python3.8/sre_compile.py\", line 120, in _compile\r\n",
      "    charset, hascased = _optimize_charset(av, iscased, tolower, fixes)\r\n",
      "  File \"/home/vinicius/anaconda3/lib/python3.8/sre_compile.py\", line 312, in _optimize_charset\r\n",
      "    charmap[i] = 1\r\n",
      "KeyboardInterrupt\r\n"
     ]
    }
   ],
   "source": [
    "!python3 -m crawler.scheduler_test DomainTest.test_domain"
   ]
  },
  {
   "cell_type": "markdown",
   "metadata": {},
   "source": [
    "**Atividade 2 - métodos `__hash__` e `__eq__` da classe `Domain`**: A fila será implementada por um dicionario ordenado ([OrderedDict](https://docs.python.org/2/library/collections.html#collections.OrderedDict)) em que a chave será um objeto da classe domínio e o valor serão uma lista de URLs. Para que seja possível a busca do domínio, você deverá implementar os métodos `__hash__` e `__eq__` de forma similar ao seguinte exemplo: "
   ]
  },
  {
   "cell_type": "code",
   "execution_count": 25,
   "metadata": {},
   "outputs": [
    {
     "name": "stdout",
     "output_type": "stream",
     "text": [
      "True\n"
     ]
    }
   ],
   "source": [
    "from collections import OrderedDict\n",
    "class Xuxu():\n",
    "    def __str__(self):\n",
    "        return \"xuxuuu\"\n",
    "    \n",
    "    def __hash__(self):\n",
    "        return hash(\"xuxu\")\n",
    "    def __eq__(self, x):\n",
    "        return x == \"xuxu\"\n",
    "d = OrderedDict()\n",
    "d[Xuxu()] = 'A'\n",
    "print(\"xuxu\" in d)"
   ]
  },
  {
   "cell_type": "markdown",
   "metadata": {},
   "source": [
    "Em nosso caso, deve ser permitido fazer a busca no dicionario pelo nome do domínio ou pelo objeto, ou seja, após a implementação desta atividade, o seguinte código irá funcionar corretamente: "
   ]
  },
  {
   "cell_type": "code",
   "execution_count": 26,
   "metadata": {
    "scrolled": true
   },
   "outputs": [
    {
     "name": "stdout",
     "output_type": "stream",
     "text": [
      "oi\n",
      "oi\n"
     ]
    }
   ],
   "source": [
    "from crawler.domain import Domain\n",
    "from collections import OrderedDict\n",
    "\n",
    "obj_domain = Domain(\"oi.com\",10)\n",
    "dic_x = OrderedDict()\n",
    "\n",
    "dic_x[obj_domain] = \"lala\"\n",
    "dic_x[\"oi.com\"] = \"oi\"\n",
    "\n",
    "#abaixo, em ambos os casos, será encontrado/impresso a string \"oi\"\n",
    "print(dic_x[\"oi.com\"])\n",
    "print(dic_x[obj_domain])"
   ]
  },
  {
   "cell_type": "markdown",
   "metadata": {},
   "source": [
    "Lembre-se que, em nosso caso, o parametro do método `__eq__` pode ser um objeto da classe `Domain` ou uma string representando o nome do domínio. Caso faça alguma modificação no código, você deverá reiniciar o kernel para que o efeito seja visto no código acima (para reiniciar, clique em Kernel->Restart). Isso ocorre que, uma vez dado import em um módulo, esse modulo não é alterado no Jupyter caso você faça uma modificação no código."
   ]
  },
  {
   "cell_type": "markdown",
   "metadata": {},
   "source": [
    "## Classe `Scheduler`"
   ]
  },
  {
   "cell_type": "markdown",
   "metadata": {},
   "source": [
    "Agora você irá implementar o escalonador. Essa classe será responsável por gerenciar as URLs. \n",
    "Para isso, será implementado as filas por servidores conforme apresentado na figura da seção anterior. \n",
    "Para isso, utilizaremos um OrderedDict em que as chaves são os servidores (objeto da classe `Domain`) e o valor será uma lista de tuplas com as URLs e sua profundidade. Com o objetivo de armazenar as URLs de forma estruturada, as mesmas **não serão** string, ao invés disso, serão objetos da classe `ParseResult` - essa classe é retornada do método [urlparse](https://docs.python.org/3/library/urllib.parse.html). Veja um exemplo abaixo.\n",
    "\n"
   ]
  },
  {
   "cell_type": "code",
   "execution_count": 6,
   "metadata": {},
   "outputs": [],
   "source": [
    "from crawler.domain import Domain\n",
    "from crawler.scheduler import Scheduler\n",
    "from urllib.parse import urlparse\n",
    "\n",
    "dict_filas_por_servidor = {Domain(\"www.globo.com\",10):[(urlparse(\"http://www.globo.com/esporte\"),1),\n",
    "                                                (urlparse(\"http://www.globo.com/noticia_um\"),2),\n",
    "                                                (urlparse(\"http://www.globo.com/noticia_dois\"),3),\n",
    "                                                (urlparse(\"http://www.globo.com/noticia_tres\"),3),\n",
    "                                                ],\n",
    "                            Domain(\"www.cnpq.br\",10):[(urlparse(\"http://www.cnpq.br/pesquisadores\"),1),\n",
    "                                               (urlparse(\"http://www.cnpq.br/bolsas\"),1)]\n",
    "                          }"
   ]
  },
  {
   "cell_type": "markdown",
   "metadata": {},
   "source": [
    "Assim, a classe `Scheduler`, no arquivo `scheduler.py` possui os seguintes atributos: \n",
    "\n",
    "- `str_usr_agent`: Nome do `User agent`. Usualmente, é o nome do navegador, em nosso caso,  será o nome do coletor (usualmente, terminado em `bot`)\n",
    "- `int_page_limit`: Número de páginas a serem coletadas\n",
    "- `int_depth_limit`: Profundidade máxima a ser coletada\n",
    "- `int_page_count`: Quantidade de página já coletada\n",
    "- `dic_url_per_domain`: Fila de URLs por domínio (explicado anteriormente)\n",
    "- `set_discovered_urls`: Conjunto de URLs descobertas, ou seja, que foi extraída em algum HTML e já adicionadas na fila - mesmo se já ela foi retirada da fila. A URL armazenada deve ser uma string.\n",
    "- `dic_robots_per_domain`: Dicionário armazenando, para cada domínio, o objeto representando as regras obtidas no `robots.txt`"
   ]
  },
  {
   "cell_type": "markdown",
   "metadata": {},
   "source": [
    "**Atividad 3 - Método `can_add_page`**: Esse método irá retornar verdadeiro caso seja possível adicionar a página `obj_url` (objeto da classe ParseResult) que foi coletada na profundidade `int_depth`. Para que seja possível adicionar na lista, esta pagina não deve ter sido descoberta e nem com a profundidade maior que o limite. Este método será testado por teste unitário apenas após a implementação da adição e obtenção das URLs."
   ]
  },
  {
   "cell_type": "markdown",
   "metadata": {},
   "source": [
    "**Atividade 4 método `add_new_page` - Adicionar nova página**:  Este método retorna falso caso não seja possível adicionar a página (por meio do método `can_add_page`) e verdadeiro, caso contrário. Caso seja possível, deve-se adicionar a url `obj_url` na fila `dic_url_per_domain`. Lembre-se da estrutura do dicionário `dic_url_per_domain`. Não esqueça de armazenar que esta URL já foi descoberta. Este método será testado por teste unitário apenas após a implementação da obtenção das URLs. Lembre-se de como trabalhar com [dicionários](https://daniel-hasan.github.io/cefet-web-grad/classes/python2/#mais-colecoes)"
   ]
  },
  {
   "cell_type": "markdown",
   "metadata": {},
   "source": [
    "**Atividade 5 método `get_next_url` - obtém a próxima URL da fila**: Este método retorna uma tupla `url,profundade` da próxima URL a ser coletada por meio da fila `dic_url_per_domain` retirando este item da fila. Lembre-se que: \n",
    "    \n",
    "- Ele deverá retornar a primeira URL do primeiro servidor que estiver acessível. \n",
    "- Você deve indicar que o servidor foi acessado \n",
    "- Caso a fila deste servidor esteja vazia, elimine-o do dicionário\n",
    "- Caso não encontre a URL, [coloque a Thread para esperar](https://docs.python.org/2/library/time.html#time.sleep) e, logo após, procure novamente \n",
    "\n",
    "Logo após, você já pode executar o teste unitário para verificar se a obtenção e adição de URLs está correta. Caso haja algum problema, existem já alguns prints comentados no código, descomente-os para verificar se o fluxo está ocorrendo da forma correta. Você deverá entregar sem a exibição desses prints (caso contrário, perderá pontos)."
   ]
  },
  {
   "cell_type": "code",
   "execution_count": 33,
   "metadata": {
    "scrolled": false
   },
   "outputs": [
    {
     "name": "stdout",
     "output_type": "stream",
     "text": [
      "Verificação da ordem das URLs...\n",
      "Resgatando a segunda página do mesmo dominio...\n",
      "Tempo esperado: 10 segundos\n",
      ".\n",
      "----------------------------------------------------------------------\n",
      "Ran 1 test in 10.011s\n",
      "\n",
      "OK\n"
     ]
    }
   ],
   "source": [
    "!python3 -m crawler.scheduler_test SchedulerTest.test_add_remove_pages"
   ]
  },
  {
   "cell_type": "markdown",
   "metadata": {},
   "source": [
    "**Atividade 6 método `can_fetch_page`**: Este método deve retornar verdadeiro caso a url (Objeto `ParseResult`), passada como parâmetro, pode ser coletada de acordo com o `Robots.txt` do domínio. Para isso, você deve usar o [`RobotFileParser`](https://docs.python.org/3/library/urllib.robotparser.html). Por razões de performance, você só poderá requisitar o robots.txt uma única vez por domínio. Assim, use o `dic_robots_per_domain` apropriadamente. Execute o teste unitário abaixo para verificar seu funcionamento. "
   ]
  },
  {
   "cell_type": "code",
   "execution_count": 28,
   "metadata": {},
   "outputs": [
    {
     "name": "stdout",
     "output_type": "stream",
     "text": [
      ".\r\n",
      "----------------------------------------------------------------------\r\n",
      "Ran 1 test in 1.534s\r\n",
      "\r\n",
      "OK\r\n"
     ]
    }
   ],
   "source": [
    "!python3 -m crawler.scheduler_test SchedulerTest.test_can_fetch_page"
   ]
  },
  {
   "cell_type": "markdown",
   "metadata": {},
   "source": [
    "**Atividade 7 - Inicialização das sementes no contrutor**: No contrutor da classe `Scheduler` você deve adicionar as páginas sementes na fila. Tais sementes são passadas pelo parametro `arr_urls_seeds` do contrutor. "
   ]
  },
  {
   "cell_type": "code",
   "execution_count": 29,
   "metadata": {},
   "outputs": [
    {
     "name": "stdout",
     "output_type": "stream",
     "text": [
      ".\r\n",
      "----------------------------------------------------------------------\r\n",
      "Ran 1 test in 0.000s\r\n",
      "\r\n",
      "OK\r\n"
     ]
    }
   ],
   "source": [
    "!python3 -m crawler.scheduler_test SchedulerTest.test_init"
   ]
  },
  {
   "cell_type": "markdown",
   "metadata": {},
   "source": [
    "Logo após, utize a anotação @synchronized aonde julgar necessário para transformar em ThreadSafe."
   ]
  },
  {
   "cell_type": "markdown",
   "metadata": {},
   "source": [
    "## PageFetcher"
   ]
  },
  {
   "cell_type": "markdown",
   "metadata": {},
   "source": [
    "**Atividade 8 - Efetuar a requisição - método `request_url`:** Neste método você irá fazer a requisição usando a api [requests](https://requests.readthedocs.io/en/master/). Além disso, deve-se informar no cabeçalho (em `User-Agent`) o nome do coletor. O método deverá retornar o conteúdo (em binário) apenas se o conteúdo for HTML (ver no cabeçalho da resposta o tipo do conteúdo). Caso não seja, ele deverá retornar nulo. "
   ]
  },
  {
   "cell_type": "code",
   "execution_count": 30,
   "metadata": {},
   "outputs": [
    {
     "name": "stdout",
     "output_type": "stream",
     "text": [
      ".\r\n",
      "----------------------------------------------------------------------\r\n",
      "Ran 1 test in 0.362s\r\n",
      "\r\n",
      "OK\r\n"
     ]
    }
   ],
   "source": [
    "!python3 -m crawler.page_fetcher_test PageFetcherTest.test_request_url"
   ]
  },
  {
   "cell_type": "markdown",
   "metadata": {},
   "source": [
    "**Atividade 9 extração das URLs por meio do método `discover_links`**: A partir do conteúdo (texto em binário) `bin_str_content` deve-se extrair seus os links. O conteúdo esta em binário, pois, o BeautifulSoup, internamente, verifica o encoding por meio da [tag meta](https://www.w3schools.com/tags/att_meta_charset.asp) e converta para UTF8. A URL da página coletada é um objeto ParseResult `obj_url` que está na profundidade `int_depth`. \n",
    "\n",
    "Para cada URL extraída, você deverá retornar uma tupla com a URL (objeto ParseResult) e a sua profundidade. Utilize o comando `yield` para retornar essas tuplas. A profundidade é calculada de por meio de  `obj_url` e `int_depth`, conforme comentado em sala de aula. \n",
    "\n",
    "Para a extração dos links, use o [CSS Selector do BeautifulSoup](https://www.crummy.com/software/BeautifulSoup/bs4/doc/#css-selectors). Seletor CSS é uma expressão que define quais elementos HTML serão estilizados pelo CSS. No *Beatifulsoup* eles são usados para selecionar quais tags serão extraídas. Veja o exemplo de uso e brinque abaixo. Caso precise, veja aqui um pouco de seletores CSS: [slides de Web](https://fegemo.github.io/cefet-front-end/classes/css2/#outros-seletores), [documentação MDN](https://developer.mozilla.org/en-US/docs/Web/CSS/CSS_Selectors)."
   ]
  },
  {
   "cell_type": "code",
   "execution_count": null,
   "metadata": {},
   "outputs": [],
   "source": [
    "from bs4 import BeautifulSoup\n",
    "\n"
   ]
  },
  {
   "cell_type": "code",
   "execution_count": 31,
   "metadata": {},
   "outputs": [
    {
     "name": "stdout",
     "output_type": "stream",
     "text": [
      "Simulação da extração de links da página http://www.pudim.com.br na profundidade nível 2...\r\n",
      ".\r\n",
      "----------------------------------------------------------------------\r\n",
      "Ran 1 test in 0.001s\r\n",
      "\r\n",
      "OK\r\n"
     ]
    }
   ],
   "source": [
    "!python3 -m crawler.page_fetcher_test PageFetcherTest.test_discover_links"
   ]
  },
  {
   "cell_type": "markdown",
   "metadata": {},
   "source": [
    "**Atividade 10 - método que solicita uma nova URL**: Por meio do método `crawl_new_url` você deverá utilizar os métodos previamente implementados para:\n",
    "\n",
    "- Solicitar ao escalonador uma nova URL\n",
    "- Fazer a requisição e obter o resultado (em binário)\n",
    "- Caso a URL seja um HTML válido, imprima esta URL e extraia os seus links"
   ]
  },
  {
   "cell_type": "code",
   "execution_count": 10,
   "metadata": {},
   "outputs": [
    {
     "name": "stdout",
     "output_type": "stream",
     "text": [
      ".\n",
      "----------------------------------------------------------------------\n",
      "Ran 1 test in 0.219s\n",
      "\n",
      "OK\n"
     ]
    }
   ],
   "source": [
    "!python3 -m crawler.page_fetcher_test PageFetcherTest.test_10"
   ]
  },
  {
   "cell_type": "markdown",
   "metadata": {},
   "source": [
    "**Atividade 12 - método run**: Este método deve coletar páginas enquanto a coleta não foi finalizada"
   ]
  },
  {
   "cell_type": "markdown",
   "metadata": {},
   "source": [
    "**Atividade 11 - um pequeno teste para finalizar: ** Use as sementes do seu grupo e crie abaixo um escalonador e 5 PageFetchers para extrair 30 páginas. Imprima também o tempo gasto total."
   ]
  },
  {
   "cell_type": "code",
   "execution_count": 32,
   "metadata": {
    "scrolled": false
   },
   "outputs": [
    {
     "name": "stdout",
     "output_type": "stream",
     "text": [
      "START NEW URL SEARCH 0\n",
      "START NEW URL SEARCH 1\n",
      "START NEW URL SEARCH 2\n",
      "START NEW URL SEARCH 3\n",
      "START NEW URL SEARCH 4\n",
      "4: Origin url: www.techtudo.com.br\n",
      "4: Discovered urls:\n",
      "4: www.techtudo.com.br: 0\n",
      "4: forum.techtudo.com.br: 1\n",
      "4: compare.techtudo.com.br: 1\n",
      "START NEW URL SEARCH 4\n",
      "3: Origin url: www.msn.com\n",
      "3: Discovered urls:\n",
      "3: www.msn.com: 0\n",
      "3: www.outlook.com: 1\n",
      "3: support2.microsoft.com: 1\n",
      "3: www.krishetrk.com: 1\n",
      "3: www.microsoft.com: 1\n",
      "3: go.microsoft.com: 1\n",
      "3: jfe.qualtrics.com: 1\n",
      "START NEW URL SEARCH 3\n",
      "1: Origin url: www.globo.com\n",
      "1: Discovered urls:\n",
      "1: www.globo.com: 0\n",
      "1: g1.globo.com: 1\n",
      "1: globoesporte.globo.com: 1\n",
      "1: gshow.globo.com: 1\n",
      "1: www.techtudo.com.br: 1\n",
      "1: globoplay.globo.com: 1\n",
      "1: oglobo.globo.com: 1\n",
      "1: epocanegocios.globo.com: 1\n",
      "1: extra.globo.com: 1\n",
      "1: blogs.oglobo.globo.com: 1\n",
      "1: revistamarieclaire.globo.com: 1\n",
      "1: interativos.globoesporte.globo.com: 1\n",
      "1: revistaglamour.globo.com: 1\n",
      "1: revistaquem.globo.com: 1\n",
      "1: vogue.globo.com: 1\n",
      "1: revistamonet.globo.com: 1\n",
      "1: revistacrescer.globo.com: 1\n",
      "1: revistacasaejardim.globo.com: 1\n",
      "1: casavogue.globo.com: 1\n",
      "1: epoca.globo.com: 1\n",
      "1: futpedia.globo.com: 1\n",
      "1: jogos.globo.com: 1\n",
      "1: horoscopo.gshow.globo.com: 1\n",
      "1: www.agentesevenoteatro.com.br: 1\n",
      "1: grupoglobo.globo.com: 1\n",
      "1: editoraglobo.globo.com: 1\n",
      "1: revistaautoesporte.globo.com: 1\n",
      "1: revistaepoca.globo.com: 1\n",
      "1: revistagalileu.globo.com: 1\n",
      "1: revistagloborural.globo.com: 1\n",
      "1: gq.globo.com: 1\n",
      "1: meus5minutos.globo.com: 1\n",
      "1: mundodositio.globo.com: 1\n",
      "1: revistapegn.globo.com: 1\n",
      "1: infoglobo.com.br: 1\n",
      "1: ela.oglobo.globo.com: 1\n",
      "1: www.valor.com.br: 1\n",
      "1: canaisglobo.globo.com: 1\n",
      "1: combate.globo.com: 1\n",
      "1: mundogloob.globo.com: 1\n",
      "1: gnt.globo.com: 1\n",
      "1: multishow.globo.com: 1\n",
      "1: sociopremiere.globo.com: 1\n",
      "1: sportv.globo.com: 1\n",
      "1: telecine.globo.com: 1\n",
      "1: globofilmes.globo.com: 1\n",
      "1: www.somlivre.com: 1\n",
      "1: radioglobo.globo.com: 1\n",
      "1: bhfm.globo.com: 1\n",
      "1: cbn.globoradio.globo.com: 1\n",
      "1: talentos.globo.com: 1\n",
      "1: conta.globo.com: 1\n",
      "1: negocios8.redeglobo.com.br: 1\n",
      "START NEW URL SEARCH 1\n",
      "0: Origin url: www.uol.com.br\n",
      "0: Discovered urls:\n",
      "0: www.uol.com.br: 0\n",
      "0: batepapo.uol.com.br: 1\n",
      "0: clicklogger.rm.uol.com.br: 1\n",
      "0: www.portaleducacao.com.br: 1\n",
      "0: play.uol.com.br: 1\n",
      "0: email.uol.com.br: 1\n",
      "0: sac.uol.com.br: 1\n",
      "0: economia.uol.com.br: 1\n",
      "0: med.uol.com.br: 1\n",
      "0: clube.uol.com.br: 1\n",
      "0: noticias.uol.com.br: 1\n",
      "0: educacao.uol.com.br: 1\n",
      "0: uol.com.br: 1\n",
      "0: carros.uol.com.br: 1\n",
      "0: www.folha.uol.com.br: 1\n",
      "0: placar.uol.com.br: 1\n",
      "0: splash.uol.com.br: 1\n",
      "0: tvefamosos.uol.com.br: 1\n",
      "0: universa.uol.com.br: 1\n",
      "0: vivabem.uol.com.br: 1\n",
      "0: painel.med.uol.com.br: 1\n",
      "0: tilt.uol.com.br: 1\n",
      "0: ecoa.uol.com.br: 1\n",
      "0: videos.band.uol.com.br: 1\n",
      "0: caras.uol.com.br: 1\n",
      "0: www.redetv.uol.com.br: 1\n",
      "0: tab.uol.com.br: 1\n",
      "0: start.uol.com.br: 1\n",
      "0: www1.folha.uol.com.br: 1\n",
      "0: bandnewstv.band.uol.com.br: 1\n",
      "0: www.band.uol.com.br: 1\n",
      "0: esporte.uol.com.br: 1\n",
      "0: blogdojuca.uol.com.br: 1\n",
      "0: blogmiltonneves.uol.com.br: 1\n",
      "0: noticiasdatv.uol.com.br: 1\n",
      "0: folha.uol.com.br: 1\n",
      "0: guia.folha.uol.com.br: 1\n",
      "0: agora.folha.uol.com.br: 1\n",
      "0: lineup.blogfolha.uol.com.br: 1\n",
      "0: sobreuol.noticias.uol.com.br: 1\n",
      "0: denuncia.uol.com.br: 1\n",
      "0: produtos.uol.com.br: 1\n",
      "0: aplicativos.uol.com.br: 1\n",
      "START NEW URL SEARCH 0\n",
      "3: Origin url: github.com\n",
      "3: Discovered urls:\n",
      "3: github.com: 0\n",
      "3: docs.github.com: 0\n",
      "3: lab.github.com: 0\n",
      "3: opensource.guide: 1\n",
      "3: github.community: 0\n",
      "3: education.github.com: 0\n",
      "3: stars.github.com: 0\n",
      "3: enterprise.github.com: 0\n",
      "3: apps.apple.com: 1\n",
      "3: play.google.com: 1\n",
      "3: desktop.github.com: 0\n",
      "3: cli.github.com: 0\n",
      "3: dependabot.com: 1\n",
      "3: resources.github.com: 0\n",
      "3: partner.github.com: 0\n",
      "3: atom.io: 1\n",
      "3: electronjs.org: 1\n",
      "3: services.github.com: 0\n",
      "3: githubstatus.com: 1\n",
      "3: github.blog: 1\n",
      "3: socialimpact.github.com: 0\n",
      "3: shop.github.com: 0\n",
      "3: twitter.com: 1\n",
      "3: www.facebook.com: 1\n",
      "3: www.youtube.com: 1\n",
      "3: www.linkedin.com: 1\n",
      "START NEW URL SEARCH 3\n",
      "2: Origin url: www.terra.com.br\n",
      "2: Discovered urls:\n",
      "2: www.terra.com.br: 0\n",
      "2: istoe.com.br: 1\n",
      "2: diversao.terra.com.br: 1\n",
      "2: www.games4u.com: 1\n",
      "2: pages.terraempresas.com.br: 1\n",
      "2: www.terraempresas.com.br: 1\n",
      "2: noticias.terra.com.br: 1\n",
      "2: terratv.terra.com.br: 1\n",
      "2: www.ofuxico.com.br: 1\n",
      "2: forbes.com.br: 1\n",
      "2: rd1.com.br: 1\n",
      "START NEW URL SEARCH 2\n",
      "3: Origin url: br.wordpress.com\n",
      "3: Discovered urls:\n",
      "3: br.wordpress.com: 0\n",
      "3: wordpress.com: 1\n",
      "3: pressable.com: 1\n",
      "3: wpvip.com: 1\n",
      "3: apps.apple.com: 1\n",
      "3: play.google.com: 1\n",
      "3: apps.wordpress.com: 1\n",
      "3: developer.wordpress.com: 1\n",
      "3: wordpress.org: 1\n",
      "3: automattic.com: 1\n",
      "3: twitter.com: 1\n",
      "3: www.facebook.com: 1\n",
      "3: www.instagram.com: 1\n",
      "3: www.youtube.com: 1\n",
      "START NEW URL SEARCH 3\n",
      "2: Origin url: www.pathofexile.com\n",
      "2: Discovered urls:\n",
      "2: www.pathofexile.com: 0\n",
      "2: www.microsoft.com: 1\n",
      "2: www.playstation.com: 1\n",
      "2: pathofexile.gamepedia.com: 1\n",
      "2: youtu.be: 1\n",
      "2: twitter.com: 1\n",
      "2: www.facebook.com: 1\n",
      "2: www.youtube.com: 1\n",
      "2: www.reddit.com: 1\n",
      "2: www.grindinggear.com: 1\n",
      "START NEW URL SEARCH 2\n",
      "1: Origin url: pt.stackoverflow.com\n",
      "1: Discovered urls:\n",
      "1: pt.stackoverflow.com: 0\n",
      "1: pt.meta.stackoverflow.com: 1\n",
      "1: stackoverflow.com: 1\n",
      "1: stackoverflowbusiness.com: 1\n",
      "1: stackexchange.com: 1\n",
      "1: chat.stackexchange.com: 0\n",
      "1: stackoverflow.blog: 1\n",
      "1: : 0\n",
      "1: serverfault.com: 1\n",
      "1: superuser.com: 1\n",
      "1: webapps.stackexchange.com: 1\n",
      "1: askubuntu.com: 1\n",
      "1: webmasters.stackexchange.com: 1\n",
      "1: gamedev.stackexchange.com: 1\n",
      "1: tex.stackexchange.com: 1\n",
      "1: softwareengineering.stackexchange.com: 1\n",
      "1: unix.stackexchange.com: 1\n",
      "1: apple.stackexchange.com: 1\n",
      "1: wordpress.stackexchange.com: 1\n",
      "1: gis.stackexchange.com: 1\n",
      "1: electronics.stackexchange.com: 1\n",
      "1: android.stackexchange.com: 1\n",
      "1: security.stackexchange.com: 1\n",
      "1: dba.stackexchange.com: 1\n",
      "1: drupal.stackexchange.com: 1\n",
      "1: sharepoint.stackexchange.com: 1\n",
      "1: ux.stackexchange.com: 1\n",
      "1: mathematica.stackexchange.com: 1\n",
      "1: salesforce.stackexchange.com: 1\n",
      "1: expressionengine.stackexchange.com: 1\n",
      "1: blender.stackexchange.com: 1\n",
      "1: networkengineering.stackexchange.com: 1\n",
      "1: crypto.stackexchange.com: 1\n",
      "1: codereview.stackexchange.com: 1\n",
      "1: magento.stackexchange.com: 1\n",
      "1: softwarerecs.stackexchange.com: 1\n",
      "1: dsp.stackexchange.com: 1\n",
      "1: emacs.stackexchange.com: 1\n",
      "1: raspberrypi.stackexchange.com: 1\n",
      "1: ru.stackoverflow.com: 1\n",
      "1: codegolf.stackexchange.com: 1\n",
      "1: es.stackoverflow.com: 1\n",
      "1: ethereum.stackexchange.com: 1\n",
      "1: datascience.stackexchange.com: 1\n",
      "1: arduino.stackexchange.com: 1\n",
      "1: bitcoin.stackexchange.com: 1\n",
      "1: sqa.stackexchange.com: 1\n",
      "1: sound.stackexchange.com: 1\n",
      "1: windowsphone.stackexchange.com: 1\n",
      "1: photo.stackexchange.com: 1\n",
      "1: scifi.stackexchange.com: 1\n",
      "1: graphicdesign.stackexchange.com: 1\n",
      "1: movies.stackexchange.com: 1\n",
      "1: music.stackexchange.com: 1\n",
      "1: worldbuilding.stackexchange.com: 1\n",
      "1: video.stackexchange.com: 1\n",
      "1: cooking.stackexchange.com: 1\n",
      "1: diy.stackexchange.com: 1\n",
      "1: money.stackexchange.com: 1\n",
      "1: academia.stackexchange.com: 1\n",
      "1: law.stackexchange.com: 1\n",
      "1: fitness.stackexchange.com: 1\n",
      "1: gardening.stackexchange.com: 1\n",
      "1: parenting.stackexchange.com: 1\n",
      "1: english.stackexchange.com: 1\n",
      "1: skeptics.stackexchange.com: 1\n",
      "1: judaism.stackexchange.com: 1\n",
      "1: travel.stackexchange.com: 1\n",
      "1: christianity.stackexchange.com: 1\n",
      "1: ell.stackexchange.com: 1\n",
      "1: japanese.stackexchange.com: 1\n",
      "1: chinese.stackexchange.com: 1\n",
      "1: french.stackexchange.com: 1\n",
      "1: german.stackexchange.com: 1\n",
      "1: hermeneutics.stackexchange.com: 1\n",
      "1: history.stackexchange.com: 1\n",
      "1: spanish.stackexchange.com: 1\n",
      "1: islam.stackexchange.com: 1\n",
      "1: rus.stackexchange.com: 1\n",
      "1: russian.stackexchange.com: 1\n",
      "1: gaming.stackexchange.com: 1\n",
      "1: bicycles.stackexchange.com: 1\n",
      "1: rpg.stackexchange.com: 1\n",
      "1: anime.stackexchange.com: 1\n",
      "1: puzzling.stackexchange.com: 1\n",
      "1: mechanics.stackexchange.com: 1\n",
      "1: boardgames.stackexchange.com: 1\n",
      "1: bricks.stackexchange.com: 1\n",
      "1: homebrew.stackexchange.com: 1\n",
      "1: martialarts.stackexchange.com: 1\n",
      "1: outdoors.stackexchange.com: 1\n",
      "1: poker.stackexchange.com: 1\n",
      "1: chess.stackexchange.com: 1\n",
      "1: sports.stackexchange.com: 1\n",
      "1: mathoverflow.net: 1\n",
      "1: math.stackexchange.com: 1\n",
      "1: stats.stackexchange.com: 1\n",
      "1: cstheory.stackexchange.com: 1\n",
      "1: physics.stackexchange.com: 1\n",
      "1: chemistry.stackexchange.com: 1\n",
      "1: biology.stackexchange.com: 1\n",
      "1: cs.stackexchange.com: 1\n",
      "1: philosophy.stackexchange.com: 1\n",
      "1: linguistics.stackexchange.com: 1\n",
      "1: psychology.stackexchange.com: 1\n",
      "1: scicomp.stackexchange.com: 1\n",
      "1: meta.stackexchange.com: 1\n",
      "1: stackapps.com: 1\n",
      "1: api.stackexchange.com: 1\n",
      "1: data.stackexchange.com: 1\n",
      "1: www.facebook.com: 1\n",
      "1: twitter.com: 1\n",
      "1: linkedin.com: 1\n",
      "1: www.instagram.com: 1\n",
      "START NEW URL SEARCH 1\n"
     ]
    },
    {
     "name": "stdout",
     "output_type": "stream",
     "text": [
      "4: Origin url: canaltech.com.br\n",
      "4: Discovered urls:\n",
      "4: canaltech.com.br: 0\n",
      "4: www.youtube.com: 1\n",
      "4: podcast.canalte.ch: 1\n",
      "4: porta101.canalte.ch: 1\n",
      "4: loja.canaltech.com.br: 0\n",
      "4: chrome.google.com: 1\n",
      "4: play.google.com: 1\n",
      "4: itunes.apple.com: 1\n",
      "4: facebook.com: 1\n",
      "4: instagram.com: 1\n",
      "4: twitter.com: 1\n",
      "4: www.linkedin.com: 1\n",
      "4: feeds2.feedburner.com: 1\n",
      "4: ofertas.canaltech.com.br: 0\n",
      "START NEW URL SEARCH 4\n",
      "0: Origin url: pt.wix.com\n",
      "0: Discovered urls:\n",
      "0: pt.wix.com: 0\n",
      "0: support.wix.com: 1\n",
      "0: users.wix.com: 0\n",
      "0: www.wix.com: 1\n",
      "0: www.wixanswers.com: 1\n",
      "0: dev.wix.com: 1\n",
      "0: investors.wix.com: 1\n",
      "0: www.facebook.com: 1\n",
      "0: twitter.com: 1\n",
      "0: www.youtube.com: 1\n",
      "0: www.pinterest.com: 1\n",
      "0: www.instagram.com: 1\n",
      "0: www.linkedin.com: 0\n",
      "1: Origin url: www.twitch.tv\n",
      "1: Discovered urls:\n",
      "2: Origin url: www.r7.com\n",
      "2: Discovered urls:\n",
      "2: www.r7.com: 0\n",
      "2: afazenda.r7.com: 1\n",
      "2: noticias.r7.com: 1\n",
      "2: www.tempoagora.com.br: 1\n",
      "2: entretenimento.r7.com: 1\n",
      "2: www.estrelando.com.br: 1\n",
      "2: www.vagalume.com.br: 1\n",
      "2: lifestyle.r7.com: 1\n",
      "2: virtz.r7.com: 1\n",
      "2: esportes.r7.com: 1\n",
      "2: prisma.r7.com: 1\n",
      "2: recordtv.r7.com: 1\n",
      "2: www.playplus.com: 1\n",
      "2: podcasts.r7.com: 1\n",
      "2: estudio.r7.com: 1\n",
      "2: videos.r7.com: 1\n",
      "2: tv.r7.com: 1\n",
      "2: mundorecord.com.br: 1\n",
      "2: trilhassonoras.r7.com: 1\n",
      "2: www.ressoar.org.br: 1\n",
      "2: www.facebook.com: 1\n",
      "2: twitter.com: 1\n",
      "2: instagram.com: 1\n",
      "2: www.bbc.com: 1\n",
      "2: www.youtube.com: 1\n",
      "2: youtu.be: 1\n",
      "2: decortips.com: 1\n",
      "2: livebasketballbr.com: 1\n",
      "2: www.univervideo.com: 1\n",
      "2: www.playplus.tv: 1\n",
      "2: sociedadeonline.com: 1\n",
      "2: www.bancorenner.com.br: 1\n",
      "2: www.erecord.com.br: 1\n",
      "2: www.redefamilia.com.br: 1\n",
      "2: recordinternacional.r7.com: 1\n",
      "2: recordtvnetwork.r7.com: 1\n",
      "2: www.universal.org: 1\n",
      "2: www.redealeluia.com.br: 1\n",
      "2: anuncie.r7.com: 1\n",
      "3: Origin url: www.reddit.com\n",
      "3: Discovered urls:\n",
      "3: www.reddit.com: 0\n",
      "3: www.motherjones.com: 1\n",
      "3: twitter.com: 1\n",
      "3: theguardian.com: 1\n",
      "3: worldofwarcraft.com: 1\n",
      "3: www.washingtonpost.com: 1\n",
      "3: www.independent.co.uk: 1\n",
      "3: www.businessinsider.com: 1\n",
      "3: www.cbc.ca: 1\n",
      "3: redditblog.com: 1\n",
      "3: www.redditinc.com: 1\n",
      "3: www.reddithelp.com: 1\n",
      "3: itunes.apple.com: 1\n",
      "3: play.google.com: 1\n",
      "3: redditgifts.com: 1\n",
      "4: Origin url: www.estadao.com.br\n",
      "4: Discovered urls:\n",
      "4: assine.estadao.com.br: 1\n",
      "4: acervo.estadao.com.br: 1\n",
      "4: institucional.ae.com.br: 1\n",
      "4: brpolitico.com.br: 1\n",
      "4: classificados.estadao.com.br: 1\n",
      "4: emais.estadao.com.br: 1\n",
      "4: einvestidor.estadao.com.br: 1\n",
      "4: esportefera.com.br: 1\n",
      "4: imoveis.estadao.com.br: 1\n",
      "4: link.estadao.com.br: 1\n",
      "4: mobilidade.estadao.com.br: 1\n",
      "4: paladar.estadao.com.br: 1\n",
      "4: pme.estadao.com.br: 1\n",
      "4: eldorado.estadao.com.br: 1\n",
      "4: saudeciencia.estadao.com.br: 1\n",
      "4: www.estadao.com.br: 0\n",
      "4: acesso.estadao.com.br: 1\n",
      "4: opiniao.estadao.com.br: 1\n",
      "4: politica.estadao.com.br: 1\n",
      "4: www.broadcast.com.br: 1\n",
      "4: tudo-sobre.estadao.com.br: 1\n",
      "4: blog.estadaodados.com: 1\n",
      "4: arte.estadao.com.br: 1\n",
      "4: economia.estadao.com.br: 1\n",
      "4: brasil.estadao.com.br: 1\n",
      "4: sao-paulo.estadao.com.br: 1\n",
      "4: educacao.estadao.com.br: 1\n",
      "4: saude.estadao.com.br: 1\n",
      "4: internacional.estadao.com.br: 1\n",
      "4: esportes.estadao.com.br: 1\n",
      "4: cultura.estadao.com.br: 1\n",
      "4: estadodaarte.estadao.com.br: 1\n",
      "4: busca.estadao.com.br: 1\n",
      "4: alias.estadao.com.br: 1\n",
      "4: ciencia.estadao.com.br: 1\n",
      "4: www.classificadosestadao.com.br: 1\n",
      "4: fotos.estadao.com.br: 1\n",
      "4: jornaldocarro.estadao.com.br: 1\n",
      "4: sustentabilidade.estadao.com.br: 1\n",
      "4: tv.estadao.com.br: 1\n",
      "4: viagem.estadao.com.br: 1\n",
      "4: voce.estadao.com.br: 1\n",
      "4: loterias.estadao.com.br: 1\n",
      "4: bora.ai: 1\n",
      "4: www.brazilhealth.com: 1\n",
      "4: www.cienciainforma.com.br: 1\n",
      "4: www.esquina.net.br: 1\n",
      "4: www.vencerocancer.org.br: 1\n",
      "4: www.internerdz.com.br: 1\n",
      "4: www.jornal.usp.br: 1\n",
      "4: marsemfim.com.br: 1\n",
      "4: www.neomondo.org.br: 1\n",
      "4: www.meufilhonaoestuda.com.br: 1\n",
      "4: www.moving.com.br: 1\n",
      "4: estradao.estadao.com.br: 1\n",
      "4: www.broadcastpolitico.com.br: 1\n",
      "4: www.seudinheiro.com: 1\n",
      "4: patrocinados.estadao.com.br: 1\n",
      "4: www.publicidadeestadao.com.br: 1\n",
      "4: site.vagas.com.br: 1\n",
      "4: www.facebook.com: 1\n",
      "4: twitter.com: 1\n",
      "4: www.instagram.com: 1\n",
      "4: www.youtube.com: 1\n",
      "4: meu.estadao.com.br: 1\n",
      "4: www.whatsmybrowser.org: 1\n"
     ]
    }
   ],
   "source": [
    "!python3 -m crawler.__init__"
   ]
  },
  {
   "cell_type": "markdown",
   "metadata": {},
   "source": [
    "# Bibliografia\n",
    "\n",
    "Baeza-Yates, Ricardo; Ribeiro-Neto, Berthier. **Modern information retrieval: the concepts and technology behind search**. ACM Press, 2011.\n",
    "\n",
    "Batista, Natércia ; Brandão, Michele ; Pinheiro, Michele ; Dalip, Daniel ; Moro, Mirella . **[Dados de Múltiplas Fontes da Web: coleta, integração e pré-processamento](https://sol.sbc.org.br/livros/index.php/sbc/catalog/download/8/19/58-1?inline=1)**. Minicursos do XXIV Simpósio Brasileiro de Sistemas Multimídia e Web. 1ed.: Sociedade Brasileira de Computação, 2018, v. , p. 153-192.\n",
    "\n",
    "\n",
    "\n",
    "\n"
   ]
  }
 ],
 "metadata": {
  "kernelspec": {
   "display_name": "Python 3",
   "language": "python",
   "name": "python3"
  },
  "language_info": {
   "codemirror_mode": {
    "name": "ipython",
    "version": 3
   },
   "file_extension": ".py",
   "mimetype": "text/x-python",
   "name": "python",
   "nbconvert_exporter": "python",
   "pygments_lexer": "ipython3",
   "version": "3.8.3"
  }
 },
 "nbformat": 4,
 "nbformat_minor": 2
}
